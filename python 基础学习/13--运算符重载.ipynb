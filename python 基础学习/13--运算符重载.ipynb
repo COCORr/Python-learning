{
 "cells": [
  {
   "cell_type": "markdown",
   "metadata": {},
   "source": [
    "# 运算符重载  让自定义的类生成的对象可以像数字一样操作\n",
    "## 算术运算符\n",
    "    __add__   加法 +\n",
    "    __sub__   减法 -\n",
    "    __mul__   乘法 *\n",
    "    __truediv__   除法 /\n",
    "    __floordiv__   地板除法 //\n",
    "    __mod__   取余 %\n",
    "    __pow__   幂 **"
   ]
  },
  {
   "cell_type": "code",
   "execution_count": 13,
   "metadata": {},
   "outputs": [],
   "source": [
    "class A:\n",
    "    def __init__(self,price):\n",
    "        self.price=price\n",
    "    def __repr__(self):\n",
    "        return str(self.price)\n",
    "    def __add__(self,other):\n",
    "        s=A(self.price+other.price)\n",
    "        return s"
   ]
  },
  {
   "cell_type": "code",
   "execution_count": 14,
   "metadata": {},
   "outputs": [],
   "source": [
    "a=A(100)\n",
    "b=A(200)"
   ]
  },
  {
   "cell_type": "code",
   "execution_count": 15,
   "metadata": {},
   "outputs": [
    {
     "data": {
      "text/plain": [
       "300"
      ]
     },
     "execution_count": 15,
     "metadata": {},
     "output_type": "execute_result"
    }
   ],
   "source": [
    "a+b"
   ]
  },
  {
   "cell_type": "markdown",
   "metadata": {},
   "source": [
    "## 二元运算符重载规则\n",
    "    def __xxx__(self,other):\n",
    "        pass"
   ]
  },
  {
   "cell_type": "markdown",
   "metadata": {},
   "source": [
    "# 反向算数运算符\n",
    "    __radd__   加法 +\n",
    "    __rsub__   减法 -\n",
    "    __rmul__   乘法 *\n",
    "    __rtruediv__   除法 /\n",
    "    __rfloordiv__   地板除法 //\n",
    "    __rmod__   取余 %\n",
    "    __rpow__   幂 **"
   ]
  },
  {
   "cell_type": "code",
   "execution_count": 19,
   "metadata": {},
   "outputs": [],
   "source": [
    "class A:\n",
    "    def __init__(self,price):\n",
    "        self.price=price\n",
    "    def __repr__(self):\n",
    "        return str(self.price)\n",
    "    def __mul__(self,other):\n",
    "        s=A(self.price*other)\n",
    "        return s"
   ]
  },
  {
   "cell_type": "code",
   "execution_count": 20,
   "metadata": {},
   "outputs": [],
   "source": [
    "a=A(100)\n"
   ]
  },
  {
   "cell_type": "code",
   "execution_count": 21,
   "metadata": {},
   "outputs": [
    {
     "data": {
      "text/plain": [
       "200"
      ]
     },
     "execution_count": 21,
     "metadata": {},
     "output_type": "execute_result"
    }
   ],
   "source": [
    "a*2"
   ]
  },
  {
   "cell_type": "code",
   "execution_count": 22,
   "metadata": {},
   "outputs": [
    {
     "ename": "TypeError",
     "evalue": "unsupported operand type(s) for *: 'int' and 'A'",
     "output_type": "error",
     "traceback": [
      "\u001b[0;31m---------------------------------------------------------------------------\u001b[0m",
      "\u001b[0;31mTypeError\u001b[0m                                 Traceback (most recent call last)",
      "\u001b[0;32m<ipython-input-22-73c509a6262f>\u001b[0m in \u001b[0;36m<module>\u001b[0;34m\u001b[0m\n\u001b[0;32m----> 1\u001b[0;31m \u001b[0;36m2\u001b[0m\u001b[0;34m*\u001b[0m\u001b[0ma\u001b[0m\u001b[0;34m\u001b[0m\u001b[0;34m\u001b[0m\u001b[0m\n\u001b[0m",
      "\u001b[0;31mTypeError\u001b[0m: unsupported operand type(s) for *: 'int' and 'A'"
     ]
    }
   ],
   "source": [
    "2*a   #此时不行"
   ]
  },
  {
   "cell_type": "code",
   "execution_count": 23,
   "metadata": {},
   "outputs": [],
   "source": [
    "class A:\n",
    "    def __init__(self,price):\n",
    "        self.price=price\n",
    "    def __repr__(self):\n",
    "        return str(self.price)\n",
    "    def __rmul__(self,other):\n",
    "        s=A(self.price*other)\n",
    "        return s"
   ]
  },
  {
   "cell_type": "code",
   "execution_count": 24,
   "metadata": {},
   "outputs": [],
   "source": [
    "b=A(100)"
   ]
  },
  {
   "cell_type": "code",
   "execution_count": 25,
   "metadata": {},
   "outputs": [
    {
     "data": {
      "text/plain": [
       "200"
      ]
     },
     "execution_count": 25,
     "metadata": {},
     "output_type": "execute_result"
    }
   ],
   "source": [
    "2*b  #此时可以运行"
   ]
  },
  {
   "cell_type": "code",
   "execution_count": 26,
   "metadata": {},
   "outputs": [
    {
     "ename": "TypeError",
     "evalue": "unsupported operand type(s) for *: 'A' and 'int'",
     "output_type": "error",
     "traceback": [
      "\u001b[0;31m---------------------------------------------------------------------------\u001b[0m",
      "\u001b[0;31mTypeError\u001b[0m                                 Traceback (most recent call last)",
      "\u001b[0;32m<ipython-input-26-b8f456c11cd8>\u001b[0m in \u001b[0;36m<module>\u001b[0;34m\u001b[0m\n\u001b[0;32m----> 1\u001b[0;31m \u001b[0mb\u001b[0m\u001b[0;34m*\u001b[0m\u001b[0;36m2\u001b[0m\u001b[0;34m\u001b[0m\u001b[0;34m\u001b[0m\u001b[0m\n\u001b[0m",
      "\u001b[0;31mTypeError\u001b[0m: unsupported operand type(s) for *: 'A' and 'int'"
     ]
    }
   ],
   "source": [
    "b*2"
   ]
  },
  {
   "cell_type": "markdown",
   "metadata": {},
   "source": [
    "# 复合赋值算数运算符\n",
    "    __iadd__   加法 +=\n",
    "    __isub__   减法 -=\n",
    "    __imul__   乘法 *=\n",
    "    __itruediv__   除法 /=\n",
    "    __ifloordiv__   地板除法 //=\n",
    "    __imod__   取余 %=\n",
    "    __ipow__   幂 **="
   ]
  },
  {
   "cell_type": "code",
   "execution_count": 27,
   "metadata": {},
   "outputs": [],
   "source": [
    "class A:\n",
    "    def __init__(self,price):\n",
    "        self.price=price\n",
    "    def __repr__(self):\n",
    "        return str(self.price)\n",
    "    def __imul__(self,other):\n",
    "        s=A(self.price*other)\n",
    "        return s"
   ]
  },
  {
   "cell_type": "code",
   "execution_count": 28,
   "metadata": {},
   "outputs": [],
   "source": [
    "c=A(100)"
   ]
  },
  {
   "cell_type": "code",
   "execution_count": 34,
   "metadata": {},
   "outputs": [
    {
     "name": "stdout",
     "output_type": "stream",
     "text": [
      "800\n"
     ]
    }
   ],
   "source": [
    "c*=2\n",
    "print(c)"
   ]
  },
  {
   "cell_type": "markdown",
   "metadata": {},
   "source": [
    "# 非常重要的一点！！！ \n",
    "# x=x+x 与 x+=x的区别 (仅在列表) 在构造函数时要特别注意"
   ]
  },
  {
   "cell_type": "code",
   "execution_count": 40,
   "metadata": {},
   "outputs": [
    {
     "name": "stdout",
     "output_type": "stream",
     "text": [
      "4624794120\n",
      "4624793992\n"
     ]
    }
   ],
   "source": [
    "a=[6]\n",
    "print(id(a))\n",
    "a=a+a\n",
    "print(id(a))"
   ]
  },
  {
   "cell_type": "code",
   "execution_count": 41,
   "metadata": {},
   "outputs": [
    {
     "name": "stdout",
     "output_type": "stream",
     "text": [
      "4624793800\n",
      "4624793800\n"
     ]
    }
   ],
   "source": [
    "a=[6]\n",
    "print(id(a))\n",
    "a+=a\n",
    "print(id(a))"
   ]
  },
  {
   "cell_type": "code",
   "execution_count": 46,
   "metadata": {},
   "outputs": [],
   "source": [
    "# 重点来了！！！"
   ]
  },
  {
   "cell_type": "code",
   "execution_count": 47,
   "metadata": {},
   "outputs": [
    {
     "name": "stdout",
     "output_type": "stream",
     "text": [
      "[100, 100]\n",
      "[100]\n"
     ]
    }
   ],
   "source": [
    "a=[100]\n",
    "def test(x):\n",
    "    x=x+x\n",
    "    print(x)\n",
    "test(a)\n",
    "print(a)"
   ]
  },
  {
   "cell_type": "code",
   "execution_count": 1,
   "metadata": {},
   "outputs": [
    {
     "name": "stdout",
     "output_type": "stream",
     "text": [
      "[100, 100]\n",
      "[100, 100]\n"
     ]
    }
   ],
   "source": [
    "a=[100]\n",
    "def test(x):\n",
    "    x+=x\n",
    "    print(x)\n",
    "test(a)\n",
    "print(a)"
   ]
  },
  {
   "cell_type": "markdown",
   "metadata": {},
   "source": [
    "# 比较运算符的重载   通常返回True 或者False\n",
    "       __lt__ <小于\n",
    "       __le__ <=\n",
    "       __gt__ >\n",
    "       __ge__ >=\n",
    "       __eq__ ==\n",
    "       __ne__ !="
   ]
  },
  {
   "cell_type": "markdown",
   "metadata": {},
   "source": [
    "# 位运算符重载   同理存在反向、复合\n",
    "    __inert__ ~\n",
    "    __and__   &\n",
    "    __or__    |\n",
    "    __xor__   ^\n",
    "    __lshift__  <<\n",
    "    __rshift__  >>"
   ]
  },
  {
   "cell_type": "markdown",
   "metadata": {},
   "source": [
    "# 一元运算符的重载\n",
    "    __neg__   -\n",
    "    __pos__   +\n",
    "    __invert__  ~"
   ]
  },
  {
   "cell_type": "markdown",
   "metadata": {},
   "source": [
    "# 索引和切片运算符的重载\n",
    "    __getitem__\n",
    "    __setitem__\n",
    "    __delitem__"
   ]
  },
  {
   "cell_type": "code",
   "execution_count": null,
   "metadata": {},
   "outputs": [],
   "source": []
  }
 ],
 "metadata": {
  "kernelspec": {
   "display_name": "Python 3",
   "language": "python",
   "name": "python3"
  },
  "language_info": {
   "codemirror_mode": {
    "name": "ipython",
    "version": 3
   },
   "file_extension": ".py",
   "mimetype": "text/x-python",
   "name": "python",
   "nbconvert_exporter": "python",
   "pygments_lexer": "ipython3",
   "version": "3.7.2"
  }
 },
 "nbformat": 4,
 "nbformat_minor": 2
}
