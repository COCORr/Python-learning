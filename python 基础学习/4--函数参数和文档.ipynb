{
 "cells": [
  {
   "cell_type": "markdown",
   "metadata": {},
   "source": [
    "# 四类参数\n",
    "- 普通参数\n",
    "- 默认参数\n",
    "- 关键字参数\n",
    "- 收集参数\n",
    "\n",
    "## 关键字参数\n",
    "- 语法\n",
    "    \n",
    "        def func(p1=v1, p2=v2.....):\n",
    "            func_body\n",
    "            \n",
    "        调用函数：\n",
    "        func(p1=value1, p2=value2.......)\n",
    "        \n",
    "- 使用关键字参数，可以不考虑参数位置"
   ]
  },
  {
   "cell_type": "code",
   "execution_count": 4,
   "metadata": {},
   "outputs": [
    {
     "name": "stdout",
     "output_type": "stream",
     "text": [
      "I am a student\n",
      "我叫 18， 我今年 DL岁了， 我住宁波\n",
      "I am a student\n",
      "我叫 DL， 我今年 18岁了， 我住宁波\n"
     ]
    }
   ],
   "source": [
    "# 关键字参数案例\n",
    "def stu(name, age, addr):\n",
    "    print(\"I am a student\")\n",
    "    print(\"我叫 {0}， 我今年 {1}岁了， 我住{2}\".format(name, age, addr))\n",
    "    \n",
    "    \n",
    "n = \"DL\"\n",
    "a = 18\n",
    "addr = \"宁波\"\n",
    "\n",
    "# 普通参数，只按照位置传递\n",
    "stu(a, n, addr)\n",
    "\n",
    "def stu_2(name=\"No name\", age=0, addr=\"No addr\"):\n",
    "    print(\"I am a student\")\n",
    "    print(\"我叫 {0}， 我今年 {1}岁了， 我住{2}\".format(name, age, addr))\n",
    "    \n",
    "    \n",
    "n = \"DL\"\n",
    "a = 18\n",
    "addr = \"宁波\"\n",
    "\n",
    "# 关键字参数 按关键字传递\n",
    "# 要看原函数中的参数定义\n",
    "stu_2(age=a, name=n, addr=addr)\n"
   ]
  },
  {
   "cell_type": "markdown",
   "metadata": {},
   "source": [
    "## 收集参数\n",
    "- 语法\n",
    "    \n",
    "        def func(*args):\n",
    "            func_body\n",
    "            按照list使用方式访问args得到传入的参数\n",
    "            \n",
    "        调用：\n",
    "        func(p1, p2, p3, .....)\n",
    "- 参数名args为约定俗成\n",
    "- 参数名args前需要由星号\n",
    "- 收集参数可以和其他参数共存"
   ]
  },
  {
   "cell_type": "code",
   "execution_count": 7,
   "metadata": {},
   "outputs": [
    {
     "name": "stdout",
     "output_type": "stream",
     "text": [
      "Hello\n",
      "<class 'tuple'>\n",
      "a\n",
      "b\n",
      "c\n",
      "d\n",
      "Hello\n",
      "<class 'tuple'>\n",
      "a\n"
     ]
    }
   ],
   "source": [
    "# 收集参数\n",
    "\n",
    "# args把他看做一个list  类似于指针的用法\n",
    "\n",
    "def stu( *args):\n",
    "    print(\"Hello\")\n",
    "    # type函数作用是检测变量的类型\n",
    "    print(type(args))\n",
    "    for item in args:\n",
    "        print(item)\n",
    "\n",
    "\n",
    "stu('a','b','c','d')\n",
    "\n",
    "stu(\"a\")"
   ]
  },
  {
   "cell_type": "code",
   "execution_count": 6,
   "metadata": {},
   "outputs": [
    {
     "name": "stdout",
     "output_type": "stream",
     "text": [
      "Hello\n",
      "<class 'tuple'>\n"
     ]
    }
   ],
   "source": [
    "# 说明收集参数可以不带任何实参调用，此时收集参数为空tuple\n",
    "stu()"
   ]
  },
  {
   "cell_type": "markdown",
   "metadata": {},
   "source": [
    " ### 收集参数之关键字收集参数\n",
    " - 把关键字参数按字典格式存入收集参数\n",
    " - 语法：\n",
    "     \n",
    "         def func( **kwargs):\n",
    "             func_body\n",
    "             \n",
    "         # 调用：\n",
    "         func(p1=v1, p2=v2, p3=v3........)\n",
    "- kwargs一般约定俗成\n",
    "- 调用的时候，把多余的关键字参数放入kwargs\n",
    "- 访问kwargs需要按字典格式访问"
   ]
  },
  {
   "cell_type": "code",
   "execution_count": 18,
   "metadata": {},
   "outputs": [
    {
     "name": "stdout",
     "output_type": "stream",
     "text": [
      "Hello\n",
      "<class 'dict'>\n",
      "name --- dl\n",
      "age --- 19\n",
      "addr --- 北京\n",
      "lover --- rr\n",
      "work --- Teacher\n",
      "\n",
      "Hello\n",
      "<class 'dict'>\n",
      "name --- dl\n"
     ]
    }
   ],
   "source": [
    "# 调用的时候需要使用关键字参数调用\n",
    "def stu( **kwargs):\n",
    "  \n",
    "    print(\"Hello\")\n",
    "    print(type(kwargs))\n",
    "    for k,v in kwargs.items():\n",
    "        print(k, \"---\", v)\n",
    "    \n",
    "stu(name=\"dl\",  age=19, addr=\"北京\", lover=\"rr\", work=\"Teacher\")\n",
    "\n",
    "print()\n",
    "\n",
    "stu(name=\"dl\")"
   ]
  },
  {
   "cell_type": "code",
   "execution_count": 19,
   "metadata": {},
   "outputs": [
    {
     "name": "stdout",
     "output_type": "stream",
     "text": [
      "Hello\n",
      "<class 'dict'>\n"
     ]
    }
   ],
   "source": [
    "# 收集参数可以为空\n",
    "stu()"
   ]
  },
  {
   "cell_type": "markdown",
   "metadata": {},
   "source": [
    "### 收集参数混合调用的顺序问题\n",
    "- 收集参数，关键字参数，普通参数可以混合使用\n",
    "- 普通参数和关键字参数优先\n",
    "- 定义的时候一般找普通参数，关键字参数，收集参数tuple，收集参数dict"
   ]
  },
  {
   "cell_type": "code",
   "execution_count": 23,
   "metadata": {},
   "outputs": [
    {
     "name": "stdout",
     "output_type": "stream",
     "text": [
      "Hello 大家好\n",
      "我叫 dl， 我今年19大了。\n",
      "我没有爱好， so sorry\n",
      "\n",
      "\n",
      "\n",
      "\n",
      "Hello 大家好\n",
      "我叫 dl， 我今年19大了。\n",
      "我的爱好是游泳\n",
      "\n",
      "\n",
      "\n",
      "\n",
      "Hello 大家好\n",
      "我叫 dl， 我今年19大了。\n",
      "我的爱好是游泳\n",
      "\n",
      "\n",
      "dl\n",
      "rr\n",
      "\n",
      "\n",
      "hobby2 --- 2\n",
      "hobby3 --- 3\n"
     ]
    }
   ],
   "source": [
    "# 收集参数混合调用案例\n",
    "def stu(name, age, *args, hobby=\"没有\", **kwargs):\n",
    "    print(\"Hello 大家好\")\n",
    "    print(\"我叫 {0}， 我今年{1}大了。\".format(name, age))\n",
    "    if hobby == \"没有\":\n",
    "        print(\"我没有爱好， so sorry\")\n",
    "    else:\n",
    "        print(\"我的爱好是{0}\".format(hobby))\n",
    "        \n",
    "    print()\n",
    "    print()\n",
    "    \n",
    "    for i in args:\n",
    "        print(i)\n",
    "    \n",
    "    print()\n",
    "    print()\n",
    "    for k,v in kwargs.items():\n",
    "        print(k, \"---\", v)\n",
    "        \n",
    "        \n",
    "# 开始调用函数\n",
    "name = \"dl\"\n",
    "age = 19\n",
    "\n",
    "\n",
    "stu(name, age)\n",
    "\n",
    "stu(name, age, hobby=\"游泳\")\n",
    "\n",
    "stu(name, age, \"dl\", \"rr\", hobby=\"游泳\", hobby2=\"2\", hobby3=\"3\")"
   ]
  },
  {
   "cell_type": "markdown",
   "metadata": {},
   "source": [
    "### 收集参数的解包问题\n",
    "- 把参数放入list或者字典中，直接把list/dict中的值放入收集参数中\n",
    "\n"
   ]
  },
  {
   "cell_type": "code",
   "execution_count": 24,
   "metadata": {},
   "outputs": [
    {
     "name": "stdout",
     "output_type": "stream",
     "text": [
      "<class 'str'>\n",
      "0\n",
      "rr\n",
      "<class 'int'>\n",
      "1\n",
      "19\n",
      "<class 'int'>\n",
      "2\n",
      "23\n",
      "<class 'str'>\n",
      "3\n",
      "dl\n"
     ]
    }
   ],
   "source": [
    "# 收集参数的解包问题\n",
    "\n",
    "def stu(*args):\n",
    "\n",
    "    n = 0\n",
    "    for i in args:\n",
    "        print(type(i))\n",
    "        print(n)\n",
    "        n += 1\n",
    "        print(i)\n",
    "        \n",
    "        \n",
    "\n",
    "\n",
    "l = [\"rr\", 19, 23, \"dl\"]\n",
    " \n",
    "#stu(l)\n",
    "# 此时, arg = ([\"liuying\", 19, 23, \"wangxiaojing\"],)\n",
    "# 此时的调用，我们就需要解包符号，即调用的时候前面加一个星号\n",
    "stu(*l)"
   ]
  },
  {
   "cell_type": "markdown",
   "metadata": {},
   "source": [
    "### 同理，dict类型收集参数一样可以解包，但是\n",
    "\n",
    "- 需要用两个星号进行解包"
   ]
  },
  {
   "cell_type": "markdown",
   "metadata": {},
   "source": [
    "# 返回值\n",
    "- 需要用return显示返回内容，\n",
    "- 如果没有返回，则默认返回None\n",
    "- 推荐写法，无论有无返回值，最后都要以return 结束"
   ]
  },
  {
   "cell_type": "code",
   "execution_count": 29,
   "metadata": {},
   "outputs": [
    {
     "name": "stdout",
     "output_type": "stream",
     "text": [
      "有返回值呀\n",
      "11\n",
      "没有返回值\n",
      "None\n"
     ]
    }
   ],
   "source": [
    "# 返回值示例\n",
    "\n",
    "def func_1():\n",
    "    print(\"有返回值呀\")\n",
    "    return \"11\"\n",
    "\n",
    "def func_2():\n",
    "    print(\"没有返回值\")\n",
    "     \n",
    "    \n",
    "  \n",
    "f1 = func_1()\n",
    "print(f1)\n",
    "\n",
    "f2 = func_2()\n",
    "print(f2)"
   ]
  },
  {
   "cell_type": "markdown",
   "metadata": {},
   "source": [
    "# 函数文档\n",
    "- 函数的文档的作用是对当前函数提供使用相关的参考信息\n",
    "- 文档的写法：\n",
    "    - 在函数内部开始的第一行使用三引号字符串定义符\n",
    "    - 一般具有特定格式\n",
    "- 文档查看\n",
    "    - 使用help函数，形如 help(func)\n",
    "    - 使用__doc__, 参看案例"
   ]
  },
  {
   "cell_type": "code",
   "execution_count": 35,
   "metadata": {},
   "outputs": [],
   "source": [
    "# 文档案例\n",
    "#具有严格的格式！！！\n",
    "\n",
    "\n",
    "def stu(name, age, *args):\n",
    "    '''\n",
    "    这是第一行\n",
    "    这是第二行\n",
    "    这是第三行\n",
    "    '''\n",
    "    print(\"This is hanshu stu\")"
   ]
  },
  {
   "cell_type": "code",
   "execution_count": 36,
   "metadata": {},
   "outputs": [
    {
     "name": "stdout",
     "output_type": "stream",
     "text": [
      "Help on function stu in module __main__:\n",
      "\n",
      "stu(name, age, *args)\n",
      "    这是第一行\n",
      "    这是第二行\n",
      "    这是第三行\n",
      "\n"
     ]
    },
    {
     "data": {
      "text/plain": [
       "'\\n    这是第一行\\n    这是第二行\\n    这是第三行\\n    '"
      ]
     },
     "execution_count": 36,
     "metadata": {},
     "output_type": "execute_result"
    }
   ],
   "source": [
    "# 查看函数文档\n",
    "# 使用    help()函数   或者    xxx._doc_\n",
    "help(stu)\n",
    "stu.__doc__"
   ]
  },
  {
   "cell_type": "code",
   "execution_count": 38,
   "metadata": {},
   "outputs": [
    {
     "name": "stdout",
     "output_type": "stream",
     "text": [
      "Help on function stu in module __main__:\n",
      "\n",
      "stu(name, age)\n",
      "    dldldldldldl\n",
      "\n",
      "None\n",
      "\n",
      "    dldldldldldl\n",
      "    \n"
     ]
    }
   ],
   "source": [
    "# help()函数的返回值是none\n",
    "\n",
    "\n",
    "# xxx._doc_ 的返回值是'''     '''中的文本内容\n",
    "\n",
    "def stu(name, age):\n",
    "    '''\n",
    "    dldldldldldl\n",
    "    '''\n",
    "    pass\n",
    "\n",
    "\n",
    "print(help(stu))\n",
    "\n",
    "\n",
    "\n",
    "print(stu.__doc__)"
   ]
  }
 ],
 "metadata": {
  "kernelspec": {
   "display_name": "Python 3",
   "language": "python",
   "name": "python3"
  },
  "language_info": {
   "codemirror_mode": {
    "name": "ipython",
    "version": 3
   },
   "file_extension": ".py",
   "mimetype": "text/x-python",
   "name": "python",
   "nbconvert_exporter": "python",
   "pygments_lexer": "ipython3",
   "version": "3.7.1"
  }
 },
 "nbformat": 4,
 "nbformat_minor": 2
}
